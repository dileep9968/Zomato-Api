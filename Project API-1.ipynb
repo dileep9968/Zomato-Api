{
 "cells": [
  {
   "cell_type": "code",
   "execution_count": 1,
   "metadata": {},
   "outputs": [],
   "source": [
    "## zomato api key  fe941199674d5028856c6d1d2c85a337"
   ]
  },
  {
   "cell_type": "code",
   "execution_count": 20,
   "metadata": {},
   "outputs": [
    {
     "name": "stdout",
     "output_type": "stream",
     "text": [
      "73\n"
     ]
    }
   ],
   "source": [
    "#Question-1\n",
    "#Fetch the cuisine_id of ‘Mexican’ cuisine using Zomato API.\n",
    "import requests\n",
    "import json\n",
    "\n",
    "response2 = requests.get(\"https://developers.zomato.com/api/v2.1/cuisines\",params={'city_id':'65'},\n",
    "                        headers={\"user-key\":\"fe941199674d5028856c6d1d2c85a337\"})\n",
    "python_data= json.loads(response2.text)\n",
    "all_cuisine = python_data['cuisines']\n",
    "for i in all_cuisine:\n",
    "    if i['cuisine']['cuisine_name']=='Mexican':\n",
    "        print(i['cuisine']['cuisine_id'])"
   ]
  },
  {
   "cell_type": "code",
   "execution_count": 32,
   "metadata": {},
   "outputs": [
    {
     "name": "stdout",
     "output_type": "stream",
     "text": [
      "{'entity_type': 'subzone', 'entity_id': 104, 'title': 'Connaught Place, New Delhi', 'latitude': 28.632832, 'longitude': 77.219688, 'city_id': 1, 'city_name': 'Delhi NCR', 'country_id': 1, 'country_name': 'India'}\n"
     ]
    }
   ],
   "source": [
    "#Fetch the entityid and entitytype of place Connaught Place.\n",
    "#Print the entityid and entitytype,\n",
    "\n",
    "\n",
    "import requests\n",
    "import json\n",
    "\n",
    "response = requests.get('https://developers.zomato.com/api/v2.1/locations', headers={\"user-key\":\"fe941199674d5028856c6d1d2c85a337\"},\n",
    "                       params={'query':'Connaught Place'})\n",
    "data=response.json()['location_suggestions']\n",
    "for i in data:\n",
    "    print(i)\n",
    "    #print(i['entity_type'],end=\" \")\n",
    "    #print(i['entity_id'])"
   ]
  },
  {
   "cell_type": "code",
   "execution_count": 31,
   "metadata": {},
   "outputs": [
    {
     "name": "stdout",
     "output_type": "stream",
     "text": [
      "6\n"
     ]
    }
   ],
   "source": [
    "#Fetch the category id of category type ‘Cafes’ using Zomato API.\n",
    "#Print the category_id.\n",
    "\n",
    "import requests\n",
    "import json\n",
    "\n",
    "response = requests.get('https://developers.zomato.com/api/v2.1/categories', headers={'user-key':'fe941199674d5028856c6d1d2c85a337'})\n",
    "for i in response.json()['categories']:\n",
    "    if i['categories']['name']=='Cafes':\n",
    "        print(i['categories']['id'])\n",
    "\n",
    "\n"
   ]
  },
  {
   "cell_type": "code",
   "execution_count": 44,
   "metadata": {},
   "outputs": [
    {
     "name": "stdout",
     "output_type": "stream",
     "text": [
      "20\n"
     ]
    }
   ],
   "source": [
    "#Fetch the top 10 best-rated restaurant serving ‘Mexican’ cuisine present in Connaught Place.\n",
    "#Print the restaurant name, user rating and restaurant id.\n",
    "\n",
    "\n",
    "import requests\n",
    "import json\n",
    "\n",
    "response = requests.get('https://developers.zomato.com/api/v2.1/search', headers={'user-key':'fe941199674d5028856c6d1d2c85a337'},\n",
    "                       params = {'entity_id':'104', 'entity_type':'subzone','cuisines':'Mexican'})\n",
    "data = response.json()['restaurants']\n",
    "print(len(data))\n",
    "for i in data:\n",
    "    if i['restaurant']['cuisines']=='Mexican':\n",
    "        print(i['restaurant']['name'],i['restaurant']['id'])"
   ]
  },
  {
   "cell_type": "code",
   "execution_count": null,
   "metadata": {},
   "outputs": [],
   "source": [
    "## Open and read data file as specified in the question\n",
    "## Print the required output in given format\n",
    "## Open and read data file as specified in the question\n",
    "## Print the required output in given format\n",
    "import requests\n",
    "import json\n",
    "\n",
    "response = requests.get('https://developers.zomato.com/api/v2.1/search', headers={'user-key':'fe941199674d5028856c6d1d2c85a337'},\n",
    "                       params = {'entity_id':'104', 'entity_type':'subzone','cuisines':'73','sort':'rating','category':'6'})\n",
    "data = response.json()['restaurants']\n",
    "for i in data:\n",
    "        print(i['restaurant']['name'],i['restaurant']['user_rating']['aggregate_rating'],end=\" \")\n",
    "        temp = i['restaurant']['photos']\n",
    "        for j in temp:\n",
    "            print(j['photo']['res_id'])\n",
    "            break"
   ]
  },
  {
   "cell_type": "code",
   "execution_count": null,
   "metadata": {},
   "outputs": [],
   "source": [
    "## Open and read data file as specified in the question\n",
    "## Print the required output in given format\n",
    "import requests\n",
    "import json\n",
    "\n",
    "\n",
    "response = requests.get('https://developers.zomato.com/api/v2.1/search', headers={'user-key':'fe941199674d5028856c6d1d2c85a337'},\n",
    "                       params = {'entity_id':'104', 'entity_type':'subzone','cuisines':'73','sort':'rating','order':'desc',\n",
    "                                 'count':'1','category':'6'})\n",
    "data = response.json()['restaurants']\n",
    "r_id=0\n",
    "\n",
    "for i in data:\n",
    "    r_id = i['restaurant']['R']['res_id']\n",
    "response1 = requests.get('https://developers.zomato.com/api/v2.1/reviews', headers={'user-key':'fe941199674d5028856c6d1d2c85a337'},\n",
    "                        params={'res_id':18241537})\n",
    "data1 = response1.json().get('user_reviews')\n",
    "for i in data1:\n",
    "    print(i['review']['user']['name'],i['review']['rating'],i['review']['review_text'])"
   ]
  },
  {
   "cell_type": "code",
   "execution_count": 7,
   "metadata": {},
   "outputs": [
    {
     "name": "stdout",
     "output_type": "stream",
     "text": [
      "4.0\n",
      "1400\n",
      "North Indian, Continental, Italian, Chinese, Momos\n",
      "G-15/B, Vijay Nagar, New Delhi\n"
     ]
    }
   ],
   "source": [
    "import requests\n",
    "user_key='3754f0440b3026cde542ed69af9f499a'\n",
    "basic_api='https://developers.zomato.com/api/v2.1'\n",
    "header={\"User-agent\": \"curl/7.43.0\",'Accept': 'application/json','user-key':user_key}\n",
    "res_id=18241524\n",
    "params={'res_id':res_id}\n",
    "response=requests.get(basic_api+'/restaurant',headers=header,params=params)\n",
    "address=response.json().get('location').get('address')\n",
    "cuisines=response.json().get('cuisines')\n",
    "rating=response.json().get('user_rating').get('aggregate_rating')\n",
    "average_cost=response.json().get('average_cost_for_two')\n",
    "print(rating)\n",
    "print(average_cost)\n",
    "print(cuisines)\n",
    "print(address)"
   ]
  },
  {
   "cell_type": "code",
   "execution_count": 8,
   "metadata": {},
   "outputs": [
    {
     "name": "stdout",
     "output_type": "stream",
     "text": [
      "yes\n"
     ]
    }
   ],
   "source": [
    "import requests\n",
    "user_key='3754f0440b3026cde542ed69af9f499a'\n",
    "basic_api='https://developers.zomato.com/api/v2.1'\n",
    "header={\"User-agent\": \"curl/7.43.0\",'Accept': 'application/json','user-key':user_key}\n",
    "res_id=18241524\n",
    "params={'res_id':res_id}\n",
    "response=requests.get(basic_api+'/restaurant',headers=header,params=params)\n",
    "if response.json().get('has_table_booking')==1:\n",
    "    print('yes')\n",
    "else:\n",
    "    print('no')\n",
    "    "
   ]
  },
  {
   "cell_type": "code",
   "execution_count": 10,
   "metadata": {},
   "outputs": [
    {
     "name": "stdout",
     "output_type": "stream",
     "text": [
      "Sachin Goel 4 A very good option in hudson lane. They serves delicious drums of heaven and chicken tikka and malai soya chaap. Their shakes were nice. They also serves hookah and alcohal.\n",
      "Tanisha Grover 2 \n",
      "Ridhi Arora 3 The place where you can have a gala time with your pals ..enjoy food and dj both.. Talking about the interior its good .. the service is also good but not up to the mark The food here is average as you cannot find much new varieties. The taste is also average Only good thing is dj Prices is also a bit high . according to the quantity . An average place to chill.\n",
      "Anshul Singhal 4 If you like partying, music on the top, thats the place for you. Even the floor was vibrating! We had my favourite,pizza, pasta, noodles, hooka and a little alcohol. It was good, could have been great if i had liked this much loud music. But the staff was friendly, always at your service. Songs were punjabi mostly. You surely can go with your gang for birthday bashes and stuff.\n",
      "Tanu Sharma 4 Restaurant was really amazing and good appreciate. But there is flies over there plz Pay attention to it\n"
     ]
    }
   ],
   "source": [
    "import requests\n",
    "user_key='3754f0440b3026cde542ed69af9f499a'\n",
    "basic_api='https://developers.zomato.com/api/v2.1'\n",
    "header={\"User-agent\": \"curl/7.43.0\",'Accept': 'application/json','user-key':user_key}\n",
    "res_id=18241524\n",
    "params={'res_id':res_id}\n",
    "r=requests.get(basic_api+'/reviews',headers=header,params=params)\n",
    "\n",
    "data = r.json().get('user_reviews')\n",
    "for i in data:\n",
    "    print(i['review']['user']['name'],i['review']['rating'],i['review']['review_text'])"
   ]
  },
  {
   "cell_type": "code",
   "execution_count": null,
   "metadata": {},
   "outputs": [],
   "source": [
    "## Open and read data file as specified in the question\n",
    "## Print the required output in given format\n",
    "import requests\n",
    "import json\n",
    "\n",
    "response = requests.get(\"https://developers.zomato.com/api/v2.1/cuisines\",headers={\"user-key\":\"fe941199674d5028856c6d1d2c85a337\"}\n",
    "                       ,params={'city_id':'1'})\n",
    "python_data= json.loads(response.text)\n",
    "all_cuisine = python_data['cuisines']\n",
    "for i in all_cuisine:\n",
    "    if i['cuisine']['cuisine_name']=='BBQ':\n",
    "        print(i['cuisine']['cuisine_id'])"
   ]
  },
  {
   "cell_type": "code",
   "execution_count": 16,
   "metadata": {},
   "outputs": [
    {
     "name": "stdout",
     "output_type": "stream",
     "text": [
      "Themis Barbecue House 4.6 18204820 Netaji Subhash Place\n",
      "Barbeque Nation 4.2 9561 Netaji Subhash Place\n",
      "Bengal Bar-Be-Que 3.5 19250749 Pitampura\n",
      "New Bombay Bar-Be-Que 3.5 5303 Prashant Vihar\n",
      "Changezi Bar-be-que & Mughlai 0 19050115 Rohini\n",
      "Wow! Chicken 0 18998624 Rohini\n",
      "Picnick Scooter Cafe 0 19149978 Punjabi Bagh\n",
      "Chicken Adda 0 19179179 Rohini\n",
      "7teen BBQ Bistro Bnq 3.9 18595610 Moti Nagar\n",
      "Pishori Chicken 0 19061375 Kirti Nagar\n"
     ]
    }
   ],
   "source": [
    "## Open and read data file as specified in the question\n",
    "## Print the required output in given format\n",
    "import requests\n",
    "latitude=\"28.697522\"\n",
    "longitude=\"77.140681\"\n",
    "user_key='3754f0440b3026cde542ed69af9f499a'\n",
    "basic_api='https://developers.zomato.com/api/v2.1'\n",
    "header={\"User-agent\": \"curl/7.43.0\",'Accept': 'application/json','user-key':user_key}\n",
    "params={'lat':latitude,'lon':longitude,'cuisines':193,'sort':'real_distance','count':10}\n",
    "response=requests.get(basic_api+'/search',headers=header,params=params)\n",
    "for i in response.json().get('restaurants'):\n",
    "    print(i.get('restaurant').get('name'),i.get('restaurant').get('user_rating').get('aggregate_rating'),\n",
    "    i.get('restaurant').get('R').get('res_id'),i.get('restaurant').get('location').get('locality'))"
   ]
  },
  {
   "cell_type": "code",
   "execution_count": null,
   "metadata": {},
   "outputs": [],
   "source": [
    "## Open and read data file as specified in the question\n",
    "## Print the required output in given format\n",
    "import requests\n",
    "latitude=\"28.697522\"\n",
    "longitude=\"77.140681\"\n",
    "user_key='3754f0440b3026cde542ed69af9f499a'\n",
    "basic_api='https://developers.zomato.com/api/v2.1'\n",
    "header={\"User-agent\": \"curl/7.43.0\",'Accept': 'application/json','user-key':user_key}\n",
    "params={'lat':latitude,'lon':longitude,'cuisines':193,'sort':'real_distance','count':1}\n",
    "r =requests.get(\"https://developers.zomato.com/api/v2.1/restaurant\",headers = {'user-key':'edde0a55d123aa0ee455bba52bdd7a23'},\n",
    "                params = {'res_id':18204820})\n",
    "data = r.json()\n",
    "for i in data['all_reviews']['reviews']:\n",
    "    print(i['review']['user']['name'],i['review']['rating'],i['review']['review_text'])"
   ]
  },
  {
   "cell_type": "code",
   "execution_count": 19,
   "metadata": {},
   "outputs": [
    {
     "name": "stdout",
     "output_type": "stream",
     "text": [
      "AMA Cafe 4.5 307374 Majnu ka Tila\n",
      "Banter 4.4 19042004 Rajinder Nagar\n",
      "Dragonfly Experience 4.7 18896889 Worldmark 1, Aerocity\n",
      "Plum By Bent Chair 4.7 18895645 Aerocity\n",
      "Hauz Khas Social 4.8 308322 Hauz Khas Village\n",
      "Diggin 4.3 18562836 Chanakyapuri\n",
      "Romeo Lane 4.4 18996774 Civil Lines\n",
      "Detroit 4.5 18625812 Connaught Place\n",
      "Sandoz 4.6 19123592 Lajpat Nagar 3\n",
      "The Darzi Bar & Kitchen 4.4 18423151 Connaught Place\n"
     ]
    }
   ],
   "source": [
    "## Open and read data file as specified in the question\n",
    "## Print the required output in given format\n",
    "import json\n",
    "\n",
    "import requests\n",
    "latitude=\"28.697522\"\n",
    "longitude=\"77.140681\"\n",
    "user_key='3754f0440b3026cde542ed69af9f499a'\n",
    "basic_api='https://developers.zomato.com/api/v2.1/search'\n",
    "header={\"User-agent\": \"curl/7.43.0\",'Accept': 'application/json','user-key':user_key}\n",
    "params={'lat':latitude,'lon':longitude,'radius':4000,'count':10}\n",
    "\n",
    "\n",
    "response = requests.get(basic_api,headers = header, params = params)\n",
    "for i in response.json().get('restaurants'):\n",
    "    print(i['restaurant']['name'],i['restaurant']['user_rating']['aggregate_rating'],i['restaurant']['R']['res_id'],\n",
    "         i['restaurant']['location']['locality'])"
   ]
  },
  {
   "cell_type": "code",
   "execution_count": null,
   "metadata": {},
   "outputs": [],
   "source": []
  }
 ],
 "metadata": {
  "kernelspec": {
   "display_name": "Python 3",
   "language": "python",
   "name": "python3"
  },
  "language_info": {
   "codemirror_mode": {
    "name": "ipython",
    "version": 3
   },
   "file_extension": ".py",
   "mimetype": "text/x-python",
   "name": "python",
   "nbconvert_exporter": "python",
   "pygments_lexer": "ipython3",
   "version": "3.7.4"
  }
 },
 "nbformat": 4,
 "nbformat_minor": 2
}
